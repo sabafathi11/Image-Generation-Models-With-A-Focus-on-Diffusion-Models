{
  "cells": [
    {
      "cell_type": "code",
      "execution_count": 1,
      "metadata": {
        "colab": {
          "base_uri": "https://localhost:8080/",
          "height": 90
        },
        "id": "ed_JxcIFeCwb",
        "outputId": "7ad9cb69-71b8-42ce-9318-1e6b8205b0fa"
      },
      "outputs": [
        {
          "data": {
            "text/html": [
              "\n",
              "     <input type=\"file\" id=\"files-7156f9ea-11bf-4203-9d74-3742f60de2db\" name=\"files[]\" multiple disabled\n",
              "        style=\"border:none\" />\n",
              "     <output id=\"result-7156f9ea-11bf-4203-9d74-3742f60de2db\">\n",
              "      Upload widget is only available when the cell has been executed in the\n",
              "      current browser session. Please rerun this cell to enable.\n",
              "      </output>\n",
              "      <script>// Copyright 2017 Google LLC\n",
              "//\n",
              "// Licensed under the Apache License, Version 2.0 (the \"License\");\n",
              "// you may not use this file except in compliance with the License.\n",
              "// You may obtain a copy of the License at\n",
              "//\n",
              "//      http://www.apache.org/licenses/LICENSE-2.0\n",
              "//\n",
              "// Unless required by applicable law or agreed to in writing, software\n",
              "// distributed under the License is distributed on an \"AS IS\" BASIS,\n",
              "// WITHOUT WARRANTIES OR CONDITIONS OF ANY KIND, either express or implied.\n",
              "// See the License for the specific language governing permissions and\n",
              "// limitations under the License.\n",
              "\n",
              "/**\n",
              " * @fileoverview Helpers for google.colab Python module.\n",
              " */\n",
              "(function(scope) {\n",
              "function span(text, styleAttributes = {}) {\n",
              "  const element = document.createElement('span');\n",
              "  element.textContent = text;\n",
              "  for (const key of Object.keys(styleAttributes)) {\n",
              "    element.style[key] = styleAttributes[key];\n",
              "  }\n",
              "  return element;\n",
              "}\n",
              "\n",
              "// Max number of bytes which will be uploaded at a time.\n",
              "const MAX_PAYLOAD_SIZE = 100 * 1024;\n",
              "\n",
              "function _uploadFiles(inputId, outputId) {\n",
              "  const steps = uploadFilesStep(inputId, outputId);\n",
              "  const outputElement = document.getElementById(outputId);\n",
              "  // Cache steps on the outputElement to make it available for the next call\n",
              "  // to uploadFilesContinue from Python.\n",
              "  outputElement.steps = steps;\n",
              "\n",
              "  return _uploadFilesContinue(outputId);\n",
              "}\n",
              "\n",
              "// This is roughly an async generator (not supported in the browser yet),\n",
              "// where there are multiple asynchronous steps and the Python side is going\n",
              "// to poll for completion of each step.\n",
              "// This uses a Promise to block the python side on completion of each step,\n",
              "// then passes the result of the previous step as the input to the next step.\n",
              "function _uploadFilesContinue(outputId) {\n",
              "  const outputElement = document.getElementById(outputId);\n",
              "  const steps = outputElement.steps;\n",
              "\n",
              "  const next = steps.next(outputElement.lastPromiseValue);\n",
              "  return Promise.resolve(next.value.promise).then((value) => {\n",
              "    // Cache the last promise value to make it available to the next\n",
              "    // step of the generator.\n",
              "    outputElement.lastPromiseValue = value;\n",
              "    return next.value.response;\n",
              "  });\n",
              "}\n",
              "\n",
              "/**\n",
              " * Generator function which is called between each async step of the upload\n",
              " * process.\n",
              " * @param {string} inputId Element ID of the input file picker element.\n",
              " * @param {string} outputId Element ID of the output display.\n",
              " * @return {!Iterable<!Object>} Iterable of next steps.\n",
              " */\n",
              "function* uploadFilesStep(inputId, outputId) {\n",
              "  const inputElement = document.getElementById(inputId);\n",
              "  inputElement.disabled = false;\n",
              "\n",
              "  const outputElement = document.getElementById(outputId);\n",
              "  outputElement.innerHTML = '';\n",
              "\n",
              "  const pickedPromise = new Promise((resolve) => {\n",
              "    inputElement.addEventListener('change', (e) => {\n",
              "      resolve(e.target.files);\n",
              "    });\n",
              "  });\n",
              "\n",
              "  const cancel = document.createElement('button');\n",
              "  inputElement.parentElement.appendChild(cancel);\n",
              "  cancel.textContent = 'Cancel upload';\n",
              "  const cancelPromise = new Promise((resolve) => {\n",
              "    cancel.onclick = () => {\n",
              "      resolve(null);\n",
              "    };\n",
              "  });\n",
              "\n",
              "  // Wait for the user to pick the files.\n",
              "  const files = yield {\n",
              "    promise: Promise.race([pickedPromise, cancelPromise]),\n",
              "    response: {\n",
              "      action: 'starting',\n",
              "    }\n",
              "  };\n",
              "\n",
              "  cancel.remove();\n",
              "\n",
              "  // Disable the input element since further picks are not allowed.\n",
              "  inputElement.disabled = true;\n",
              "\n",
              "  if (!files) {\n",
              "    return {\n",
              "      response: {\n",
              "        action: 'complete',\n",
              "      }\n",
              "    };\n",
              "  }\n",
              "\n",
              "  for (const file of files) {\n",
              "    const li = document.createElement('li');\n",
              "    li.append(span(file.name, {fontWeight: 'bold'}));\n",
              "    li.append(span(\n",
              "        `(${file.type || 'n/a'}) - ${file.size} bytes, ` +\n",
              "        `last modified: ${\n",
              "            file.lastModifiedDate ? file.lastModifiedDate.toLocaleDateString() :\n",
              "                                    'n/a'} - `));\n",
              "    const percent = span('0% done');\n",
              "    li.appendChild(percent);\n",
              "\n",
              "    outputElement.appendChild(li);\n",
              "\n",
              "    const fileDataPromise = new Promise((resolve) => {\n",
              "      const reader = new FileReader();\n",
              "      reader.onload = (e) => {\n",
              "        resolve(e.target.result);\n",
              "      };\n",
              "      reader.readAsArrayBuffer(file);\n",
              "    });\n",
              "    // Wait for the data to be ready.\n",
              "    let fileData = yield {\n",
              "      promise: fileDataPromise,\n",
              "      response: {\n",
              "        action: 'continue',\n",
              "      }\n",
              "    };\n",
              "\n",
              "    // Use a chunked sending to avoid message size limits. See b/62115660.\n",
              "    let position = 0;\n",
              "    do {\n",
              "      const length = Math.min(fileData.byteLength - position, MAX_PAYLOAD_SIZE);\n",
              "      const chunk = new Uint8Array(fileData, position, length);\n",
              "      position += length;\n",
              "\n",
              "      const base64 = btoa(String.fromCharCode.apply(null, chunk));\n",
              "      yield {\n",
              "        response: {\n",
              "          action: 'append',\n",
              "          file: file.name,\n",
              "          data: base64,\n",
              "        },\n",
              "      };\n",
              "\n",
              "      let percentDone = fileData.byteLength === 0 ?\n",
              "          100 :\n",
              "          Math.round((position / fileData.byteLength) * 100);\n",
              "      percent.textContent = `${percentDone}% done`;\n",
              "\n",
              "    } while (position < fileData.byteLength);\n",
              "  }\n",
              "\n",
              "  // All done.\n",
              "  yield {\n",
              "    response: {\n",
              "      action: 'complete',\n",
              "    }\n",
              "  };\n",
              "}\n",
              "\n",
              "scope.google = scope.google || {};\n",
              "scope.google.colab = scope.google.colab || {};\n",
              "scope.google.colab._files = {\n",
              "  _uploadFiles,\n",
              "  _uploadFilesContinue,\n",
              "};\n",
              "})(self);\n",
              "</script> "
            ],
            "text/plain": [
              "<IPython.core.display.HTML object>"
            ]
          },
          "metadata": {},
          "output_type": "display_data"
        },
        {
          "name": "stdout",
          "output_type": "stream",
          "text": [
            "Saving kaggle.json to kaggle.json\n"
          ]
        },
        {
          "data": {
            "text/plain": [
              "{'kaggle.json': b'{\"username\":\"sabafathi1\",\"key\":\"caf096e3f98fe2cbcbe059a2a40c9270\"}'}"
            ]
          },
          "execution_count": 1,
          "metadata": {},
          "output_type": "execute_result"
        }
      ],
      "source": [
        "from google.colab import files\n",
        "files.upload()"
      ]
    },
    {
      "cell_type": "code",
      "execution_count": 2,
      "metadata": {
        "id": "Tf-Yghh5eEpT"
      },
      "outputs": [],
      "source": [
        "!mkdir -p ~/.kaggle\n",
        "!cp kaggle.json ~/.kaggle/\n",
        "!chmod 600 ~/.kaggle/kaggle.json"
      ]
    },
    {
      "cell_type": "code",
      "execution_count": 3,
      "metadata": {
        "colab": {
          "base_uri": "https://localhost:8080/"
        },
        "id": "vJ2R9jJKePrQ",
        "outputId": "c8fb66b1-5867-4e9c-99dd-d6a6aa1a3fdb"
      },
      "outputs": [
        {
          "name": "stdout",
          "output_type": "stream",
          "text": [
            "Output file downloaded to /content/checkpoints/epoch_00.pth\n",
            "Output file downloaded to /content/checkpoints/epoch_01.pth\n",
            "Output file downloaded to /content/checkpoints/epoch_02.pth\n",
            "Output file downloaded to /content/checkpoints/epoch_03.pth\n",
            "Output file downloaded to /content/checkpoints/epoch_04.pth\n",
            "Output file downloaded to /content/checkpoints/epoch_05.pth\n",
            "Output file downloaded to /content/checkpoints/epoch_06.pth\n",
            "Output file downloaded to /content/checkpoints/epoch_07.pth\n",
            "Output file downloaded to /content/checkpoints/epoch_08.pth\n",
            "Output file downloaded to /content/checkpoints/epoch_09.pth\n",
            "Output file downloaded to /content/checkpoints/epoch_10.pth\n",
            "Output file downloaded to /content/checkpoints/epoch_11.pth\n",
            "Output file downloaded to /content/checkpoints/epoch_12.pth\n",
            "Output file downloaded to /content/checkpoints/epoch_13.pth\n",
            "Output file downloaded to /content/checkpoints/epoch_14.pth\n",
            "Output file downloaded to /content/checkpoints/epoch_15.pth\n",
            "Output file downloaded to /content/checkpoints/epoch_16.pth\n",
            "Output file downloaded to /content/checkpoints/epoch_17.pth\n",
            "Output file downloaded to /content/checkpoints/epoch_18.pth\n",
            "Output file downloaded to /content/checkpoints/epoch_19.pth\n",
            "Output file downloaded to /content/checkpoints/epoch_20.pth\n",
            "Output file downloaded to /content/checkpoints/epoch_21.pth\n",
            "Output file downloaded to /content/checkpoints/epoch_22.pth\n",
            "Output file downloaded to /content/checkpoints/epoch_23.pth\n",
            "Output file downloaded to /content/checkpoints/epoch_24.pth\n",
            "Output file downloaded to /content/checkpoints/epoch_25.pth\n",
            "Output file downloaded to /content/checkpoints/epoch_26.pth\n",
            "Output file downloaded to /content/checkpoints/epoch_27.pth\n",
            "Output file downloaded to /content/checkpoints/epoch_28.pth\n",
            "Output file downloaded to /content/checkpoints/epoch_29.pth\n",
            "Output file downloaded to /content/checkpoints/last_checkpoint.pth\n",
            "Output file downloaded to /content/generated_images.png\n",
            "Output file downloaded to /content/losses.txt\n"
          ]
        }
      ],
      "source": [
        "!kaggle kernels output sabafathi1/VAE4cbe0d8270"
      ]
    },
    {
      "cell_type": "code",
      "execution_count": 4,
      "metadata": {
        "colab": {
          "base_uri": "https://localhost:8080/"
        },
        "id": "sHU1BqRuemBZ",
        "outputId": "031210aa-cf9e-4e48-de61-016c96f97001"
      },
      "outputs": [
        {
          "name": "stdout",
          "output_type": "stream",
          "text": [
            "Output file downloaded to /content/checkpoints/discriminator_epoch_0.pth\n",
            "Output file downloaded to /content/checkpoints/discriminator_epoch_1.pth\n",
            "Output file downloaded to /content/checkpoints/discriminator_epoch_10.pth\n",
            "Output file downloaded to /content/checkpoints/discriminator_epoch_11.pth\n",
            "Output file downloaded to /content/checkpoints/discriminator_epoch_12.pth\n",
            "Output file downloaded to /content/checkpoints/discriminator_epoch_13.pth\n",
            "Output file downloaded to /content/checkpoints/discriminator_epoch_14.pth\n",
            "Output file downloaded to /content/checkpoints/discriminator_epoch_15.pth\n",
            "Output file downloaded to /content/checkpoints/discriminator_epoch_16.pth\n",
            "Output file downloaded to /content/checkpoints/discriminator_epoch_17.pth\n",
            "Output file downloaded to /content/checkpoints/discriminator_epoch_18.pth\n",
            "Output file downloaded to /content/checkpoints/discriminator_epoch_19.pth\n",
            "Output file downloaded to /content/checkpoints/discriminator_epoch_2.pth\n",
            "Output file downloaded to /content/checkpoints/discriminator_epoch_3.pth\n",
            "Output file downloaded to /content/checkpoints/discriminator_epoch_4.pth\n",
            "Output file downloaded to /content/checkpoints/discriminator_epoch_5.pth\n",
            "Output file downloaded to /content/checkpoints/discriminator_epoch_6.pth\n",
            "Output file downloaded to /content/checkpoints/discriminator_epoch_7.pth\n",
            "Output file downloaded to /content/checkpoints/discriminator_epoch_8.pth\n",
            "Output file downloaded to /content/checkpoints/discriminator_epoch_9.pth\n",
            "Output file downloaded to /content/checkpoints/discriminator_last_checkpoint.pth\n",
            "Output file downloaded to /content/checkpoints/generator_epoch_0.pth\n",
            "Output file downloaded to /content/checkpoints/generator_epoch_1.pth\n",
            "Output file downloaded to /content/checkpoints/generator_epoch_10.pth\n",
            "Output file downloaded to /content/checkpoints/generator_epoch_11.pth\n",
            "Output file downloaded to /content/checkpoints/generator_epoch_12.pth\n",
            "Output file downloaded to /content/checkpoints/generator_epoch_13.pth\n",
            "Output file downloaded to /content/checkpoints/generator_epoch_14.pth\n",
            "Output file downloaded to /content/checkpoints/generator_epoch_15.pth\n",
            "Output file downloaded to /content/checkpoints/generator_epoch_16.pth\n",
            "Output file downloaded to /content/checkpoints/generator_epoch_17.pth\n",
            "Output file downloaded to /content/checkpoints/generator_epoch_18.pth\n",
            "Output file downloaded to /content/checkpoints/generator_epoch_19.pth\n",
            "Output file downloaded to /content/checkpoints/generator_epoch_2.pth\n",
            "Output file downloaded to /content/checkpoints/generator_epoch_3.pth\n",
            "Output file downloaded to /content/checkpoints/generator_epoch_4.pth\n",
            "Output file downloaded to /content/checkpoints/generator_epoch_5.pth\n",
            "Output file downloaded to /content/checkpoints/generator_epoch_6.pth\n",
            "Output file downloaded to /content/checkpoints/generator_epoch_7.pth\n",
            "Output file downloaded to /content/checkpoints/generator_epoch_8.pth\n",
            "Output file downloaded to /content/checkpoints/generator_epoch_9.pth\n",
            "Output file downloaded to /content/checkpoints/generator_last_checkpoint.pth\n",
            "Output file downloaded to /content/discriminator_losses.txt\n",
            "Output file downloaded to /content/generated_images.png\n",
            "Output file downloaded to /content/generator_losses.txt\n",
            "Kernel log downloaded to /content/gan5503d4fd3c.log \n"
          ]
        }
      ],
      "source": [
        "!kaggle kernels output sabafathi1/gan5503d4fd3c"
      ]
    },
    {
      "cell_type": "code",
      "execution_count": 5,
      "metadata": {
        "colab": {
          "base_uri": "https://localhost:8080/"
        },
        "id": "JU_jm_MLebyK",
        "outputId": "981abd8a-a331-46f4-d479-226ccaa21281"
      },
      "outputs": [
        {
          "name": "stdout",
          "output_type": "stream",
          "text": [
            "/usr/local/lib/python3.11/dist-packages/gdown/__main__.py:140: FutureWarning: Option `--id` was deprecated in version 4.3.1 and will be removed in 5.0. You don't need to pass it anymore to use a file ID.\n",
            "  warnings.warn(\n",
            "Downloading...\n",
            "From (original): https://drive.google.com/uc?id=1ibjbccZPik-ramrZjYDVAXILJ6sna9g3\n",
            "From (redirected): https://drive.google.com/uc?id=1ibjbccZPik-ramrZjYDVAXILJ6sna9g3&confirm=t&uuid=43412919-4d7a-4a34-9074-66b7471a558f\n",
            "To: /content/img_align_celeba.zip\n",
            "100% 1.44G/1.44G [00:22<00:00, 64.4MB/s]\n"
          ]
        }
      ],
      "source": [
        "!gdown --id 1ibjbccZPik-ramrZjYDVAXILJ6sna9g3"
      ]
    },
    {
      "cell_type": "code",
      "execution_count": 6,
      "metadata": {
        "id": "JqWw7j_1ervc"
      },
      "outputs": [],
      "source": [
        "!unzip /content/img_align_celeba.zip -d /content/celeba_data > /dev/null 2>&1"
      ]
    },
    {
      "cell_type": "code",
      "execution_count": 8,
      "metadata": {
        "editable": false,
        "execution": {
          "iopub.execute_input": "2025-05-27T11:09:27.080762Z",
          "iopub.status.busy": "2025-05-27T11:09:27.080411Z",
          "iopub.status.idle": "2025-05-27T11:09:32.571170Z",
          "shell.execute_reply": "2025-05-27T11:09:32.570382Z",
          "shell.execute_reply.started": "2025-05-27T11:09:27.080700Z"
        },
        "id": "7FFN-6ubd-j3",
        "trusted": true
      },
      "outputs": [],
      "source": [
        "import torch\n",
        "import torch.nn as nn\n",
        "from torchvision.utils import make_grid\n",
        "import matplotlib.pyplot as plt\n",
        "import numpy as np\n",
        "device = torch.device(\"cuda\" if torch.cuda.is_available() else \"cpu\")"
      ]
    },
    {
      "cell_type": "code",
      "execution_count": 9,
      "metadata": {
        "editable": false,
        "execution": {
          "iopub.execute_input": "2025-05-27T11:09:37.373449Z",
          "iopub.status.busy": "2025-05-27T11:09:37.373035Z",
          "iopub.status.idle": "2025-05-27T11:09:37.381989Z",
          "shell.execute_reply": "2025-05-27T11:09:37.381263Z",
          "shell.execute_reply.started": "2025-05-27T11:09:37.373428Z"
        },
        "id": "hv126G47d-j4",
        "trusted": true
      },
      "outputs": [],
      "source": [
        "class Encoder(nn.Module):\n",
        "    def __init__(self, input_dim, hidden_dim, latent_dim):\n",
        "        super().__init__()\n",
        "        self.fc1 = nn.Linear(input_dim, hidden_dim)\n",
        "        self.fc2 = nn.Linear(hidden_dim, hidden_dim)\n",
        "        self.fc_mean = nn.Linear(hidden_dim, latent_dim)\n",
        "        self.fc_logvar = nn.Linear(hidden_dim, latent_dim)\n",
        "        self.lrelu = nn.LeakyReLU(0.2)\n",
        "\n",
        "    def forward(self, x):\n",
        "        x = x.view(x.size(0), -1)\n",
        "        h = self.lrelu(self.fc1(x))\n",
        "        h = self.lrelu(self.fc2(h))\n",
        "        return self.fc_mean(h), self.fc_logvar(h)\n",
        "\n",
        "class Decoder(nn.Module):\n",
        "    def __init__(self, latent_dim, hidden_dim, output_dim):\n",
        "        super().__init__()\n",
        "        self.fc1 = nn.Linear(latent_dim, hidden_dim)\n",
        "        self.fc2 = nn.Linear(hidden_dim, hidden_dim)\n",
        "        self.fc_out = nn.Linear(hidden_dim, output_dim)\n",
        "        self.lrelu = nn.LeakyReLU(0.2)\n",
        "\n",
        "    def forward(self, z):\n",
        "        h = self.lrelu(self.fc1(z))\n",
        "        h = self.lrelu(self.fc2(h))\n",
        "        x_hat = torch.sigmoid(self.fc_out(h))\n",
        "        return x_hat.view(-1, 3, 64, 64)\n",
        "\n",
        "class VAE(nn.Module):\n",
        "    def __init__(self, encoder, decoder):\n",
        "        super().__init__()\n",
        "        self.encoder = encoder\n",
        "        self.decoder = decoder\n",
        "\n",
        "    def reparameterize(self, mean, log_var):\n",
        "        std = torch.exp(0.5 * log_var)\n",
        "        eps = torch.randn_like(std).to(device)\n",
        "        return mean + eps * std\n",
        "\n",
        "    def forward(self, x):\n",
        "        mean, log_var = self.encoder(x)\n",
        "        z = self.reparameterize(mean, log_var)\n",
        "        x_hat = self.decoder(z)\n",
        "        return x_hat, mean, log_var"
      ]
    },
    {
      "cell_type": "code",
      "execution_count": 10,
      "metadata": {
        "editable": false,
        "execution": {
          "iopub.execute_input": "2025-05-27T11:09:41.122912Z",
          "iopub.status.busy": "2025-05-27T11:09:41.122435Z",
          "iopub.status.idle": "2025-05-27T11:09:41.415851Z",
          "shell.execute_reply": "2025-05-27T11:09:41.415120Z",
          "shell.execute_reply.started": "2025-05-27T11:09:41.122891Z"
        },
        "id": "hW4DEY2Kd-j5",
        "trusted": true
      },
      "outputs": [],
      "source": [
        "input_dim = 3 * 64 * 64\n",
        "hidden_dim = 512\n",
        "latent_dim = 128\n",
        "\n",
        "encoder = Encoder(input_dim, hidden_dim, latent_dim)\n",
        "decoder = Decoder(latent_dim, hidden_dim, input_dim)\n",
        "vae = VAE(encoder, decoder).to(device)"
      ]
    },
    {
      "cell_type": "code",
      "execution_count": 11,
      "metadata": {
        "colab": {
          "base_uri": "https://localhost:8080/"
        },
        "id": "qK4kVx5se7Nr",
        "outputId": "8074d978-4b8b-43ca-db5b-f6acff1c24a8"
      },
      "outputs": [
        {
          "data": {
            "text/plain": [
              "<All keys matched successfully>"
            ]
          },
          "execution_count": 11,
          "metadata": {},
          "output_type": "execute_result"
        }
      ],
      "source": [
        "vae_checkpoint = torch.load(\"checkpoints/last_checkpoint.pth\", map_location=device)\n",
        "vae.load_state_dict(vae_checkpoint['model_state_dict'])"
      ]
    },
    {
      "cell_type": "code",
      "execution_count": null,
      "metadata": {
        "editable": false,
        "execution": {
          "iopub.execute_input": "2025-05-27T11:09:43.014736Z",
          "iopub.status.busy": "2025-05-27T11:09:43.014090Z",
          "iopub.status.idle": "2025-05-27T11:09:44.620295Z",
          "shell.execute_reply": "2025-05-27T11:09:44.619593Z",
          "shell.execute_reply.started": "2025-05-27T11:09:43.014710Z"
        },
        "id": "16Igy1C2d-j5",
        "outputId": "81cc9842-6e8a-4e8c-8912-1b303a7f366b",
        "trusted": true
      },
      "outputs": [
        {
          "data": {
            "text/plain": [
              "<All keys matched successfully>"
            ]
          },
          "execution_count": 4,
          "metadata": {},
          "output_type": "execute_result"
        }
      ],
      "source": [
        "vae_checkpoint = torch.load(\"/kaggle/input/vae4cbe0d8270/checkpoints/last_checkpoint.pth\", map_location=device)\n",
        "vae.load_state_dict(vae_checkpoint['model_state_dict'])"
      ]
    },
    {
      "cell_type": "code",
      "execution_count": 12,
      "metadata": {
        "editable": false,
        "execution": {
          "iopub.execute_input": "2025-05-27T11:09:46.298542Z",
          "iopub.status.busy": "2025-05-27T11:09:46.298307Z",
          "iopub.status.idle": "2025-05-27T11:09:46.304243Z",
          "shell.execute_reply": "2025-05-27T11:09:46.303337Z",
          "shell.execute_reply.started": "2025-05-27T11:09:46.298527Z"
        },
        "id": "IG5X12XVd-j5",
        "trusted": true
      },
      "outputs": [],
      "source": [
        "class Generator(nn.Module):\n",
        "    def __init__(self, noise_dim):\n",
        "        super(Generator, self).__init__()\n",
        "        self.main = nn.Sequential(\n",
        "            nn.Linear(noise_dim, 4 * 4 * 1024),\n",
        "            nn.ReLU(True),\n",
        "            nn.Unflatten(1, (1024, 4, 4)),\n",
        "            nn.ConvTranspose2d(1024, 512, 4, 2, 1),\n",
        "            nn.BatchNorm2d(512),\n",
        "            nn.ReLU(True),\n",
        "            nn.ConvTranspose2d(512, 256, 4, 2, 1),\n",
        "            nn.BatchNorm2d(256),\n",
        "            nn.ReLU(True),\n",
        "            nn.ConvTranspose2d(256, 128, 4, 2, 1),\n",
        "            nn.BatchNorm2d(128),\n",
        "            nn.ReLU(True),\n",
        "            nn.ConvTranspose2d(128, 3, 4, 2, 1),\n",
        "            nn.Tanh()\n",
        "        )\n",
        "    def forward(self, x):\n",
        "        return self.main(x)"
      ]
    },
    {
      "cell_type": "code",
      "execution_count": 13,
      "metadata": {
        "editable": false,
        "execution": {
          "iopub.execute_input": "2025-05-27T11:09:47.539391Z",
          "iopub.status.busy": "2025-05-27T11:09:47.538688Z",
          "iopub.status.idle": "2025-05-27T11:09:47.660636Z",
          "shell.execute_reply": "2025-05-27T11:09:47.659892Z",
          "shell.execute_reply.started": "2025-05-27T11:09:47.539366Z"
        },
        "id": "c_6spfcvd-j6",
        "trusted": true
      },
      "outputs": [],
      "source": [
        "noise_dim = 100\n",
        "\n",
        "gan = Generator(noise_dim).to(device)"
      ]
    },
    {
      "cell_type": "code",
      "execution_count": 15,
      "metadata": {
        "colab": {
          "base_uri": "https://localhost:8080/"
        },
        "id": "zEOxPHc0fs1Y",
        "outputId": "5854e9ac-e003-482d-f8b0-0dafe7b1ea2f"
      },
      "outputs": [
        {
          "data": {
            "text/plain": [
              "<All keys matched successfully>"
            ]
          },
          "execution_count": 15,
          "metadata": {},
          "output_type": "execute_result"
        }
      ],
      "source": [
        "gan_checkpoint = torch.load(\"checkpoints/generator_last_checkpoint.pth\", map_location=device)\n",
        "gan.load_state_dict(gan_checkpoint['model_state_dict'])"
      ]
    },
    {
      "cell_type": "code",
      "execution_count": null,
      "metadata": {
        "editable": false,
        "execution": {
          "iopub.execute_input": "2025-05-27T11:09:51.923843Z",
          "iopub.status.busy": "2025-05-27T11:09:51.923382Z",
          "iopub.status.idle": "2025-05-27T11:09:53.105480Z",
          "shell.execute_reply": "2025-05-27T11:09:53.104872Z",
          "shell.execute_reply.started": "2025-05-27T11:09:51.923820Z"
        },
        "id": "WZZPQcW9d-j6",
        "outputId": "a32c82ba-23dd-4d7b-fbd0-c5cd24e12edd",
        "trusted": true
      },
      "outputs": [
        {
          "data": {
            "text/plain": [
              "<All keys matched successfully>"
            ]
          },
          "execution_count": 7,
          "metadata": {},
          "output_type": "execute_result"
        }
      ],
      "source": [
        "gan_checkpoint = torch.load(\"/kaggle/input/gan5503d4fd3c/checkpoints/generator_last_checkpoint.pth\", map_location=device)\n",
        "gan.load_state_dict(gan_checkpoint['model_state_dict'])"
      ]
    },
    {
      "cell_type": "code",
      "execution_count": 16,
      "metadata": {
        "editable": false,
        "execution": {
          "iopub.execute_input": "2025-05-27T11:09:55.699313Z",
          "iopub.status.busy": "2025-05-27T11:09:55.699016Z",
          "iopub.status.idle": "2025-05-27T11:09:55.845965Z",
          "shell.execute_reply": "2025-05-27T11:09:55.845125Z",
          "shell.execute_reply.started": "2025-05-27T11:09:55.699290Z"
        },
        "id": "mg7sLW1cd-j6",
        "trusted": true
      },
      "outputs": [],
      "source": [
        "vae.eval()\n",
        "with torch.no_grad():\n",
        "    z = torch.randn(12000, latent_dim).to(device)\n",
        "    vae_samples = decoder(z)"
      ]
    },
    {
      "cell_type": "code",
      "execution_count": 17,
      "metadata": {
        "editable": false,
        "execution": {
          "iopub.execute_input": "2025-05-27T11:09:57.819500Z",
          "iopub.status.busy": "2025-05-27T11:09:57.819187Z",
          "iopub.status.idle": "2025-05-27T11:10:14.288226Z",
          "shell.execute_reply": "2025-05-27T11:10:14.287409Z",
          "shell.execute_reply.started": "2025-05-27T11:09:57.819478Z"
        },
        "id": "cygQ76UEd-j6",
        "trusted": true
      },
      "outputs": [],
      "source": [
        "import torchvision.utils as vutils\n",
        "from PIL import Image\n",
        "import os\n",
        "\n",
        "os.makedirs(\"vae_images\", exist_ok=True)\n",
        "\n",
        "vae_samples = vae_samples.cpu()\n",
        "for i, img_tensor in enumerate(vae_samples):\n",
        "    img = img_tensor.clamp(0, 1)\n",
        "    img_pil = vutils.make_grid(img, normalize=False).permute(1, 2, 0).numpy() * 255\n",
        "    img_pil = Image.fromarray(img_pil.astype(\"uint8\"))\n",
        "    img_pil.save(f\"vae_images/img_{i:04d}.png\")"
      ]
    },
    {
      "cell_type": "code",
      "execution_count": 18,
      "metadata": {
        "editable": false,
        "execution": {
          "iopub.execute_input": "2025-05-27T11:10:18.404449Z",
          "iopub.status.busy": "2025-05-27T11:10:18.403705Z",
          "iopub.status.idle": "2025-05-27T11:10:21.655420Z",
          "shell.execute_reply": "2025-05-27T11:10:21.654853Z",
          "shell.execute_reply.started": "2025-05-27T11:10:18.404425Z"
        },
        "id": "o1DKo1Vod-j6",
        "trusted": true
      },
      "outputs": [],
      "source": [
        "gan.eval()\n",
        "\n",
        "with torch.no_grad():\n",
        "    z = torch.randn(12000, noise_dim).to(device)\n",
        "    gan_samples = gan(z).cpu()"
      ]
    },
    {
      "cell_type": "code",
      "execution_count": 19,
      "metadata": {
        "editable": false,
        "execution": {
          "iopub.execute_input": "2025-05-27T11:10:24.956792Z",
          "iopub.status.busy": "2025-05-27T11:10:24.956310Z",
          "iopub.status.idle": "2025-05-27T11:10:38.401366Z",
          "shell.execute_reply": "2025-05-27T11:10:38.400826Z",
          "shell.execute_reply.started": "2025-05-27T11:10:24.956770Z"
        },
        "id": "TcXBVE5Zd-j6",
        "trusted": true
      },
      "outputs": [],
      "source": [
        "from PIL import Image\n",
        "import os\n",
        "\n",
        "os.makedirs(\"gan_images\", exist_ok=True)\n",
        "\n",
        "gan_samples = gan_samples.cpu()\n",
        "for i, img_tensor in enumerate(gan_samples):\n",
        "    img = img_tensor.clamp(0, 1)\n",
        "    img_pil = vutils.make_grid(img, normalize=False).permute(1, 2, 0).numpy() * 255\n",
        "    img_pil = Image.fromarray(img_pil.astype(\"uint8\"))\n",
        "    img_pil.save(f\"gan_images/img_{i:04d}.png\")"
      ]
    },
    {
      "cell_type": "code",
      "execution_count": 20,
      "metadata": {
        "id": "f4kenSIFfxOO"
      },
      "outputs": [],
      "source": [
        "import os\n",
        "import shutil\n",
        "import random\n",
        "from pathlib import Path\n",
        "\n",
        "celeba_dir = Path(\"/content/celeba_data/img_align_celeba\")\n",
        "output_dir = Path(\"./real_images\")\n",
        "output_dir.mkdir(parents=True, exist_ok=True)\n",
        "all_images = list(celeba_dir.glob(\"*.jpg\"))\n",
        "\n",
        "selected_images = random.sample(all_images, 12000)\n",
        "for img_path in selected_images:\n",
        "    shutil.copy(img_path, output_dir / img_path.name)"
      ]
    },
    {
      "cell_type": "code",
      "execution_count": 22,
      "metadata": {
        "colab": {
          "base_uri": "https://localhost:8080/"
        },
        "execution": {
          "iopub.execute_input": "2025-05-27T11:17:51.476957Z",
          "iopub.status.busy": "2025-05-27T11:17:51.476679Z",
          "iopub.status.idle": "2025-05-27T11:17:54.737826Z",
          "shell.execute_reply": "2025-05-27T11:17:54.737118Z",
          "shell.execute_reply.started": "2025-05-27T11:17:51.476937Z"
        },
        "id": "jUB0YIJsd-j6",
        "outputId": "56649b94-d6f0-4da6-b74c-d316316e0115",
        "trusted": true
      },
      "outputs": [
        {
          "name": "stdout",
          "output_type": "stream",
          "text": [
            "Collecting torch_fidelity\n",
            "  Downloading torch_fidelity-0.3.0-py3-none-any.whl.metadata (2.0 kB)\n",
            "Requirement already satisfied: numpy in /usr/local/lib/python3.11/dist-packages (from torch_fidelity) (2.0.2)\n",
            "Requirement already satisfied: Pillow in /usr/local/lib/python3.11/dist-packages (from torch_fidelity) (11.2.1)\n",
            "Requirement already satisfied: scipy in /usr/local/lib/python3.11/dist-packages (from torch_fidelity) (1.15.3)\n",
            "Requirement already satisfied: torch in /usr/local/lib/python3.11/dist-packages (from torch_fidelity) (2.6.0+cu124)\n",
            "Requirement already satisfied: torchvision in /usr/local/lib/python3.11/dist-packages (from torch_fidelity) (0.21.0+cu124)\n",
            "Requirement already satisfied: tqdm in /usr/local/lib/python3.11/dist-packages (from torch_fidelity) (4.67.1)\n",
            "Requirement already satisfied: filelock in /usr/local/lib/python3.11/dist-packages (from torch->torch_fidelity) (3.18.0)\n",
            "Requirement already satisfied: typing-extensions>=4.10.0 in /usr/local/lib/python3.11/dist-packages (from torch->torch_fidelity) (4.13.2)\n",
            "Requirement already satisfied: networkx in /usr/local/lib/python3.11/dist-packages (from torch->torch_fidelity) (3.4.2)\n",
            "Requirement already satisfied: jinja2 in /usr/local/lib/python3.11/dist-packages (from torch->torch_fidelity) (3.1.6)\n",
            "Requirement already satisfied: fsspec in /usr/local/lib/python3.11/dist-packages (from torch->torch_fidelity) (2025.3.2)\n",
            "Collecting nvidia-cuda-nvrtc-cu12==12.4.127 (from torch->torch_fidelity)\n",
            "  Downloading nvidia_cuda_nvrtc_cu12-12.4.127-py3-none-manylinux2014_x86_64.whl.metadata (1.5 kB)\n",
            "Collecting nvidia-cuda-runtime-cu12==12.4.127 (from torch->torch_fidelity)\n",
            "  Downloading nvidia_cuda_runtime_cu12-12.4.127-py3-none-manylinux2014_x86_64.whl.metadata (1.5 kB)\n",
            "Collecting nvidia-cuda-cupti-cu12==12.4.127 (from torch->torch_fidelity)\n",
            "  Downloading nvidia_cuda_cupti_cu12-12.4.127-py3-none-manylinux2014_x86_64.whl.metadata (1.6 kB)\n",
            "Collecting nvidia-cudnn-cu12==9.1.0.70 (from torch->torch_fidelity)\n",
            "  Downloading nvidia_cudnn_cu12-9.1.0.70-py3-none-manylinux2014_x86_64.whl.metadata (1.6 kB)\n",
            "Collecting nvidia-cublas-cu12==12.4.5.8 (from torch->torch_fidelity)\n",
            "  Downloading nvidia_cublas_cu12-12.4.5.8-py3-none-manylinux2014_x86_64.whl.metadata (1.5 kB)\n",
            "Collecting nvidia-cufft-cu12==11.2.1.3 (from torch->torch_fidelity)\n",
            "  Downloading nvidia_cufft_cu12-11.2.1.3-py3-none-manylinux2014_x86_64.whl.metadata (1.5 kB)\n",
            "Collecting nvidia-curand-cu12==10.3.5.147 (from torch->torch_fidelity)\n",
            "  Downloading nvidia_curand_cu12-10.3.5.147-py3-none-manylinux2014_x86_64.whl.metadata (1.5 kB)\n",
            "Collecting nvidia-cusolver-cu12==11.6.1.9 (from torch->torch_fidelity)\n",
            "  Downloading nvidia_cusolver_cu12-11.6.1.9-py3-none-manylinux2014_x86_64.whl.metadata (1.6 kB)\n",
            "Collecting nvidia-cusparse-cu12==12.3.1.170 (from torch->torch_fidelity)\n",
            "  Downloading nvidia_cusparse_cu12-12.3.1.170-py3-none-manylinux2014_x86_64.whl.metadata (1.6 kB)\n",
            "Requirement already satisfied: nvidia-cusparselt-cu12==0.6.2 in /usr/local/lib/python3.11/dist-packages (from torch->torch_fidelity) (0.6.2)\n",
            "Requirement already satisfied: nvidia-nccl-cu12==2.21.5 in /usr/local/lib/python3.11/dist-packages (from torch->torch_fidelity) (2.21.5)\n",
            "Requirement already satisfied: nvidia-nvtx-cu12==12.4.127 in /usr/local/lib/python3.11/dist-packages (from torch->torch_fidelity) (12.4.127)\n",
            "Collecting nvidia-nvjitlink-cu12==12.4.127 (from torch->torch_fidelity)\n",
            "  Downloading nvidia_nvjitlink_cu12-12.4.127-py3-none-manylinux2014_x86_64.whl.metadata (1.5 kB)\n",
            "Requirement already satisfied: triton==3.2.0 in /usr/local/lib/python3.11/dist-packages (from torch->torch_fidelity) (3.2.0)\n",
            "Requirement already satisfied: sympy==1.13.1 in /usr/local/lib/python3.11/dist-packages (from torch->torch_fidelity) (1.13.1)\n",
            "Requirement already satisfied: mpmath<1.4,>=1.1.0 in /usr/local/lib/python3.11/dist-packages (from sympy==1.13.1->torch->torch_fidelity) (1.3.0)\n",
            "Requirement already satisfied: MarkupSafe>=2.0 in /usr/local/lib/python3.11/dist-packages (from jinja2->torch->torch_fidelity) (3.0.2)\n",
            "Downloading torch_fidelity-0.3.0-py3-none-any.whl (37 kB)\n",
            "Downloading nvidia_cublas_cu12-12.4.5.8-py3-none-manylinux2014_x86_64.whl (363.4 MB)\n",
            "\u001b[2K   \u001b[90m━━━━━━━━━━━━━━━━━━━━━━━━━━━━━━━━━━━━━━━━\u001b[0m \u001b[32m363.4/363.4 MB\u001b[0m \u001b[31m1.5 MB/s\u001b[0m eta \u001b[36m0:00:00\u001b[0m\n",
            "\u001b[?25hDownloading nvidia_cuda_cupti_cu12-12.4.127-py3-none-manylinux2014_x86_64.whl (13.8 MB)\n",
            "\u001b[2K   \u001b[90m━━━━━━━━━━━━━━━━━━━━━━━━━━━━━━━━━━━━━━━━\u001b[0m \u001b[32m13.8/13.8 MB\u001b[0m \u001b[31m125.6 MB/s\u001b[0m eta \u001b[36m0:00:00\u001b[0m\n",
            "\u001b[?25hDownloading nvidia_cuda_nvrtc_cu12-12.4.127-py3-none-manylinux2014_x86_64.whl (24.6 MB)\n",
            "\u001b[2K   \u001b[90m━━━━━━━━━━━━━━━━━━━━━━━━━━━━━━━━━━━━━━━━\u001b[0m \u001b[32m24.6/24.6 MB\u001b[0m \u001b[31m62.7 MB/s\u001b[0m eta \u001b[36m0:00:00\u001b[0m\n",
            "\u001b[?25hDownloading nvidia_cuda_runtime_cu12-12.4.127-py3-none-manylinux2014_x86_64.whl (883 kB)\n",
            "\u001b[2K   \u001b[90m━━━━━━━━━━━━━━━━━━━━━━━━━━━━━━━━━━━━━━━━\u001b[0m \u001b[32m883.7/883.7 kB\u001b[0m \u001b[31m36.3 MB/s\u001b[0m eta \u001b[36m0:00:00\u001b[0m\n",
            "\u001b[?25hDownloading nvidia_cudnn_cu12-9.1.0.70-py3-none-manylinux2014_x86_64.whl (664.8 MB)\n",
            "\u001b[2K   \u001b[90m━━━━━━━━━━━━━━━━━━━━━━━━━━━━━━━━━━━━━━━\u001b[0m \u001b[32m664.8/664.8 MB\u001b[0m \u001b[31m745.0 kB/s\u001b[0m eta \u001b[36m0:00:00\u001b[0m\n",
            "\u001b[?25hDownloading nvidia_cufft_cu12-11.2.1.3-py3-none-manylinux2014_x86_64.whl (211.5 MB)\n",
            "\u001b[2K   \u001b[90m━━━━━━━━━━━━━━━━━━━━━━━━━━━━━━━━━━━━━━━━\u001b[0m \u001b[32m211.5/211.5 MB\u001b[0m \u001b[31m2.1 MB/s\u001b[0m eta \u001b[36m0:00:00\u001b[0m\n",
            "\u001b[?25hDownloading nvidia_curand_cu12-10.3.5.147-py3-none-manylinux2014_x86_64.whl (56.3 MB)\n",
            "\u001b[2K   \u001b[90m━━━━━━━━━━━━━━━━━━━━━━━━━━━━━━━━━━━━━━━━\u001b[0m \u001b[32m56.3/56.3 MB\u001b[0m \u001b[31m13.8 MB/s\u001b[0m eta \u001b[36m0:00:00\u001b[0m\n",
            "\u001b[?25hDownloading nvidia_cusolver_cu12-11.6.1.9-py3-none-manylinux2014_x86_64.whl (127.9 MB)\n",
            "\u001b[2K   \u001b[90m━━━━━━━━━━━━━━━━━━━━━━━━━━━━━━━━━━━━━━━━\u001b[0m \u001b[32m127.9/127.9 MB\u001b[0m \u001b[31m8.2 MB/s\u001b[0m eta \u001b[36m0:00:00\u001b[0m\n",
            "\u001b[?25hDownloading nvidia_cusparse_cu12-12.3.1.170-py3-none-manylinux2014_x86_64.whl (207.5 MB)\n",
            "\u001b[2K   \u001b[90m━━━━━━━━━━━━━━━━━━━━━━━━━━━━━━━━━━━━━━━━\u001b[0m \u001b[32m207.5/207.5 MB\u001b[0m \u001b[31m1.5 MB/s\u001b[0m eta \u001b[36m0:00:00\u001b[0m\n",
            "\u001b[?25hDownloading nvidia_nvjitlink_cu12-12.4.127-py3-none-manylinux2014_x86_64.whl (21.1 MB)\n",
            "\u001b[2K   \u001b[90m━━━━━━━━━━━━━━━━━━━━━━━━━━━━━━━━━━━━━━━━\u001b[0m \u001b[32m21.1/21.1 MB\u001b[0m \u001b[31m109.2 MB/s\u001b[0m eta \u001b[36m0:00:00\u001b[0m\n",
            "\u001b[?25hInstalling collected packages: nvidia-nvjitlink-cu12, nvidia-curand-cu12, nvidia-cufft-cu12, nvidia-cuda-runtime-cu12, nvidia-cuda-nvrtc-cu12, nvidia-cuda-cupti-cu12, nvidia-cublas-cu12, nvidia-cusparse-cu12, nvidia-cudnn-cu12, nvidia-cusolver-cu12, torch_fidelity\n",
            "  Attempting uninstall: nvidia-nvjitlink-cu12\n",
            "    Found existing installation: nvidia-nvjitlink-cu12 12.5.82\n",
            "    Uninstalling nvidia-nvjitlink-cu12-12.5.82:\n",
            "      Successfully uninstalled nvidia-nvjitlink-cu12-12.5.82\n",
            "  Attempting uninstall: nvidia-curand-cu12\n",
            "    Found existing installation: nvidia-curand-cu12 10.3.6.82\n",
            "    Uninstalling nvidia-curand-cu12-10.3.6.82:\n",
            "      Successfully uninstalled nvidia-curand-cu12-10.3.6.82\n",
            "  Attempting uninstall: nvidia-cufft-cu12\n",
            "    Found existing installation: nvidia-cufft-cu12 11.2.3.61\n",
            "    Uninstalling nvidia-cufft-cu12-11.2.3.61:\n",
            "      Successfully uninstalled nvidia-cufft-cu12-11.2.3.61\n",
            "  Attempting uninstall: nvidia-cuda-runtime-cu12\n",
            "    Found existing installation: nvidia-cuda-runtime-cu12 12.5.82\n",
            "    Uninstalling nvidia-cuda-runtime-cu12-12.5.82:\n",
            "      Successfully uninstalled nvidia-cuda-runtime-cu12-12.5.82\n",
            "  Attempting uninstall: nvidia-cuda-nvrtc-cu12\n",
            "    Found existing installation: nvidia-cuda-nvrtc-cu12 12.5.82\n",
            "    Uninstalling nvidia-cuda-nvrtc-cu12-12.5.82:\n",
            "      Successfully uninstalled nvidia-cuda-nvrtc-cu12-12.5.82\n",
            "  Attempting uninstall: nvidia-cuda-cupti-cu12\n",
            "    Found existing installation: nvidia-cuda-cupti-cu12 12.5.82\n",
            "    Uninstalling nvidia-cuda-cupti-cu12-12.5.82:\n",
            "      Successfully uninstalled nvidia-cuda-cupti-cu12-12.5.82\n",
            "  Attempting uninstall: nvidia-cublas-cu12\n",
            "    Found existing installation: nvidia-cublas-cu12 12.5.3.2\n",
            "    Uninstalling nvidia-cublas-cu12-12.5.3.2:\n",
            "      Successfully uninstalled nvidia-cublas-cu12-12.5.3.2\n",
            "  Attempting uninstall: nvidia-cusparse-cu12\n",
            "    Found existing installation: nvidia-cusparse-cu12 12.5.1.3\n",
            "    Uninstalling nvidia-cusparse-cu12-12.5.1.3:\n",
            "      Successfully uninstalled nvidia-cusparse-cu12-12.5.1.3\n",
            "  Attempting uninstall: nvidia-cudnn-cu12\n",
            "    Found existing installation: nvidia-cudnn-cu12 9.3.0.75\n",
            "    Uninstalling nvidia-cudnn-cu12-9.3.0.75:\n",
            "      Successfully uninstalled nvidia-cudnn-cu12-9.3.0.75\n",
            "  Attempting uninstall: nvidia-cusolver-cu12\n",
            "    Found existing installation: nvidia-cusolver-cu12 11.6.3.83\n",
            "    Uninstalling nvidia-cusolver-cu12-11.6.3.83:\n",
            "      Successfully uninstalled nvidia-cusolver-cu12-11.6.3.83\n",
            "Successfully installed nvidia-cublas-cu12-12.4.5.8 nvidia-cuda-cupti-cu12-12.4.127 nvidia-cuda-nvrtc-cu12-12.4.127 nvidia-cuda-runtime-cu12-12.4.127 nvidia-cudnn-cu12-9.1.0.70 nvidia-cufft-cu12-11.2.1.3 nvidia-curand-cu12-10.3.5.147 nvidia-cusolver-cu12-11.6.1.9 nvidia-cusparse-cu12-12.3.1.170 nvidia-nvjitlink-cu12-12.4.127 torch_fidelity-0.3.0\n"
          ]
        }
      ],
      "source": [
        "!pip install torch_fidelity"
      ]
    },
    {
      "cell_type": "code",
      "execution_count": 23,
      "metadata": {
        "colab": {
          "base_uri": "https://localhost:8080/"
        },
        "editable": false,
        "execution": {
          "iopub.status.busy": "2025-05-27T11:02:13.102525Z",
          "iopub.status.idle": "2025-05-27T11:02:13.102840Z",
          "shell.execute_reply": "2025-05-27T11:02:13.102680Z",
          "shell.execute_reply.started": "2025-05-27T11:02:13.102664Z"
        },
        "id": "JkgpjeL4d-j7",
        "outputId": "949bbd8a-5c6e-4268-dcba-abf10553196c",
        "trusted": true
      },
      "outputs": [
        {
          "name": "stdout",
          "output_type": "stream",
          "text": [
            "0.3.0\n"
          ]
        }
      ],
      "source": [
        "import torch_fidelity\n",
        "print(torch_fidelity.__version__)\n"
      ]
    },
    {
      "cell_type": "code",
      "execution_count": 26,
      "metadata": {
        "colab": {
          "base_uri": "https://localhost:8080/"
        },
        "id": "jW3p9f5OiWsP",
        "outputId": "e999e40b-8ee5-49a9-8b0d-dd71377eee48"
      },
      "outputs": [
        {
          "name": "stdout",
          "output_type": "stream",
          "text": [
            "inception_score_mean 2.144097185793562\n",
            "inception_score_std 0.05696837279206358\n",
            "frechet_inception_distance 93.0731547767057\n",
            "kernel_inception_distance_mean 0.1072647786140442\n",
            "kernel_inception_distance_std 0.0016816425411287856\n",
            "recall 0.21105456923145681\n",
            "precision 0.17862311004513571"
          ]
        }
      ],
      "source": [
        "from torch_fidelity import calculate_metrics\n",
        "\n",
        "metrics1 = calculate_metrics(\n",
        "    input1='gan_images',\n",
        "    input2='real_images',\n",
        "    cuda=True,\n",
        "    isc=True,\n",
        "    fid=True,\n",
        "    kid=True,\n",
        "    prc=True,\n",
        "    verbose=False)\n",
        "\n",
        "for i in metrics1:\n",
        "    print(i,metrics1[i])"
      ]
    },
    {
      "cell_type": "code",
      "execution_count": 27,
      "metadata": {
        "colab": {
          "base_uri": "https://localhost:8080/"
        },
        "id": "sTL2BeWliqPs",
        "outputId": "60d8934b-6414-4250-edcb-32fc22ced9d0"
      },
      "outputs": [
        {
          "name": "stdout",
          "output_type": "stream",
          "text": [
            "inception_score_mean 1.6551587103698189\n",
            "inception_score_std 0.015152151895093915\n",
            "frechet_inception_distance 153.0719268117519\n",
            "kernel_inception_distance_mean 0.17037234783172608\n",
            "kernel_inception_distance_std 0.001894801673483931\n",
            "recall 0.68205269932148312\n",
            "precision 0.0053215986301470"
          ]
        }
      ],
      "source": [
        "metrics2 = calculate_metrics(\n",
        "    input1='vae_images',\n",
        "    input2='real_images',\n",
        "    cuda=True,\n",
        "    isc=True,\n",
        "    fid=True,\n",
        "    kid=True,\n",
        "    prc=True,\n",
        "    verbose=False)\n",
        "\n",
        "\n",
        "for i in metrics2:\n",
        "    print(i,metrics2[i])"
      ]
    },
    {
      "cell_type": "code",
      "execution_count": null,
      "metadata": {
        "editable": false,
        "execution": {
          "iopub.status.busy": "2025-05-27T11:02:13.101031Z",
          "iopub.status.idle": "2025-05-27T11:02:13.101241Z",
          "shell.execute_reply": "2025-05-27T11:02:13.101154Z",
          "shell.execute_reply.started": "2025-05-27T11:02:13.101145Z"
        },
        "id": "YeBB0Yizd-j7",
        "trusted": true
      },
      "outputs": [],
      "source": [
        "metrics2 = calculate_metrics(\n",
        "    input1='/kaggle/working/vae_images',\n",
        "    input2='/kaggle/working/real_images',\n",
        "    cuda=True,\n",
        "    isc=True,\n",
        "    fid=True,\n",
        "    kid=True,\n",
        "    prc=True,\n",
        "    verbose=False)\n",
        "\n",
        "\n",
        "for i in metrics2:\n",
        "    print(i,metrics2[i])"
      ]
    }
  ],
  "metadata": {
    "accelerator": "GPU",
    "colab": {
      "gpuType": "T4",
      "provenance": []
    },
    "kaggle": {
      "accelerator": "gpu",
      "dataSources": [
        {
          "datasetId": 29561,
          "sourceId": 37705,
          "sourceType": "datasetVersion"
        },
        {
          "sourceId": 241102589,
          "sourceType": "kernelVersion"
        },
        {
          "sourceId": 240822738,
          "sourceType": "kernelVersion"
        }
      ],
      "dockerImageVersionId": 31041,
      "isGpuEnabled": true,
      "isInternetEnabled": true,
      "language": "python",
      "sourceType": "notebook"
    },
    "kernelspec": {
      "display_name": "Python 3",
      "name": "python3"
    },
    "language_info": {
      "codemirror_mode": {
        "name": "ipython",
        "version": 3
      },
      "file_extension": ".py",
      "mimetype": "text/x-python",
      "name": "python",
      "nbconvert_exporter": "python",
      "pygments_lexer": "ipython3",
      "version": "3.11.11"
    }
  },
  "nbformat": 4,
  "nbformat_minor": 0
}
